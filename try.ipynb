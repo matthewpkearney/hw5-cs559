{
 "cells": [
  {
   "cell_type": "markdown",
   "metadata": {},
   "source": [
    "## Homework 5 - CS 559\n",
    "Matt Kearney -\n",
    "Prof. Insuk Jang - \n",
    "Fundamentals of ML - \n",
    "30.3.24"
   ]
  },
  {
   "cell_type": "code",
   "execution_count": 938,
   "metadata": {},
   "outputs": [],
   "source": [
    "import pandas as pd\n",
    "import numpy as np\n",
    "\n",
    "test = pd.read_csv('kernel_ridge_test.csv') #removed comma at beginning -> \"   Unnamed: 0\"\n",
    "train = pd.read_csv('kernel_ridge_train.csv')  # ^^"
   ]
  },
  {
   "cell_type": "code",
   "execution_count": 939,
   "metadata": {},
   "outputs": [
    {
     "name": "stdout",
     "output_type": "stream",
     "text": [
      "          x1        x2        x3         Y\n",
      "0 -12.566371  3.617242  0.204829 -2.000000\n",
      "1 -12.053458  4.319111  2.582332 -1.918367\n",
      "2 -11.540544  1.778165  2.468020 -1.836735\n",
      "3 -11.027631  0.374609  2.057867 -1.755102\n",
      "4 -10.514718 -1.089312  3.089581 -1.673469\n",
      "\n",
      "-------------[obs 5 - obs 44]-------------\n",
      "\n",
      "           x1        x2        x3         Y\n",
      "45  10.514718 -1.358345 -3.751502  1.673469\n",
      "46  11.027631  0.323126 -5.663733  1.755102\n",
      "47  11.540544  4.588643 -6.308534  1.836735\n",
      "48  12.053458  4.763386 -1.897627  1.918367\n",
      "49  12.566371  8.524086  0.919631  2.000000\n",
      "\n",
      "Test shape:\n",
      "\tRows: 50\n",
      "\tColumns: 4\n"
     ]
    },
    {
     "data": {
      "text/html": [
       "<div>\n",
       "<style scoped>\n",
       "    .dataframe tbody tr th:only-of-type {\n",
       "        vertical-align: middle;\n",
       "    }\n",
       "\n",
       "    .dataframe tbody tr th {\n",
       "        vertical-align: top;\n",
       "    }\n",
       "\n",
       "    .dataframe thead th {\n",
       "        text-align: right;\n",
       "    }\n",
       "</style>\n",
       "<table border=\"1\" class=\"dataframe\">\n",
       "  <thead>\n",
       "    <tr style=\"text-align: right;\">\n",
       "      <th></th>\n",
       "      <th>x1</th>\n",
       "      <th>x2</th>\n",
       "      <th>x3</th>\n",
       "      <th>Y</th>\n",
       "    </tr>\n",
       "  </thead>\n",
       "  <tbody>\n",
       "    <tr>\n",
       "      <th>count</th>\n",
       "      <td>5.000000e+01</td>\n",
       "      <td>50.000000</td>\n",
       "      <td>50.000000</td>\n",
       "      <td>5.000000e+01</td>\n",
       "    </tr>\n",
       "    <tr>\n",
       "      <th>mean</th>\n",
       "      <td>-9.237056e-16</td>\n",
       "      <td>0.676566</td>\n",
       "      <td>0.397804</td>\n",
       "      <td>-1.243450e-16</td>\n",
       "    </tr>\n",
       "    <tr>\n",
       "      <th>std</th>\n",
       "      <td>7.476929e+00</td>\n",
       "      <td>2.501394</td>\n",
       "      <td>2.211010</td>\n",
       "      <td>1.189990e+00</td>\n",
       "    </tr>\n",
       "    <tr>\n",
       "      <th>min</th>\n",
       "      <td>-1.256637e+01</td>\n",
       "      <td>-6.409929</td>\n",
       "      <td>-6.308534</td>\n",
       "      <td>-2.000000e+00</td>\n",
       "    </tr>\n",
       "    <tr>\n",
       "      <th>25%</th>\n",
       "      <td>-6.283185e+00</td>\n",
       "      <td>-0.903665</td>\n",
       "      <td>-0.773674</td>\n",
       "      <td>-1.000000e+00</td>\n",
       "    </tr>\n",
       "    <tr>\n",
       "      <th>50%</th>\n",
       "      <td>-8.881784e-16</td>\n",
       "      <td>0.506599</td>\n",
       "      <td>0.669575</td>\n",
       "      <td>0.000000e+00</td>\n",
       "    </tr>\n",
       "    <tr>\n",
       "      <th>75%</th>\n",
       "      <td>6.283185e+00</td>\n",
       "      <td>1.737709</td>\n",
       "      <td>1.985352</td>\n",
       "      <td>1.000000e+00</td>\n",
       "    </tr>\n",
       "    <tr>\n",
       "      <th>max</th>\n",
       "      <td>1.256637e+01</td>\n",
       "      <td>8.524086</td>\n",
       "      <td>5.311137</td>\n",
       "      <td>2.000000e+00</td>\n",
       "    </tr>\n",
       "  </tbody>\n",
       "</table>\n",
       "</div>"
      ],
      "text/plain": [
       "                 x1         x2         x3             Y\n",
       "count  5.000000e+01  50.000000  50.000000  5.000000e+01\n",
       "mean  -9.237056e-16   0.676566   0.397804 -1.243450e-16\n",
       "std    7.476929e+00   2.501394   2.211010  1.189990e+00\n",
       "min   -1.256637e+01  -6.409929  -6.308534 -2.000000e+00\n",
       "25%   -6.283185e+00  -0.903665  -0.773674 -1.000000e+00\n",
       "50%   -8.881784e-16   0.506599   0.669575  0.000000e+00\n",
       "75%    6.283185e+00   1.737709   1.985352  1.000000e+00\n",
       "max    1.256637e+01   8.524086   5.311137  2.000000e+00"
      ]
     },
     "execution_count": 939,
     "metadata": {},
     "output_type": "execute_result"
    }
   ],
   "source": [
    "print(train.head(5))\n",
    "print(\"\\n-------------[obs 5 - obs 44]-------------\\n\")\n",
    "print(train.tail(5))\n",
    "\n",
    "rows_train, cols_train = train.shape\n",
    "print(f\"\\nTest shape:\\n\\tRows: {rows_train}\\n\\tColumns: {cols_train}\")\n",
    "\n",
    "train.describe()"
   ]
  },
  {
   "cell_type": "code",
   "execution_count": 940,
   "metadata": {},
   "outputs": [
    {
     "name": "stdout",
     "output_type": "stream",
     "text": [
      "          x1   x2            x3    Y\n",
      "0 -12.566371  5.0  2.449294e-15 -2.0\n",
      "1  -6.283185  2.0  4.898587e-16 -1.0\n",
      "2   0.000000  1.0  0.000000e+00  0.0\n",
      "3   6.283185  2.0 -4.898587e-16  1.0\n",
      "4  12.566371  5.0 -2.449294e-15  2.0\n",
      "\n",
      "Test shape:\n",
      "\tRows: 5\n",
      "\tColumns: 4\n"
     ]
    },
    {
     "data": {
      "text/html": [
       "<div>\n",
       "<style scoped>\n",
       "    .dataframe tbody tr th:only-of-type {\n",
       "        vertical-align: middle;\n",
       "    }\n",
       "\n",
       "    .dataframe tbody tr th {\n",
       "        vertical-align: top;\n",
       "    }\n",
       "\n",
       "    .dataframe thead th {\n",
       "        text-align: right;\n",
       "    }\n",
       "</style>\n",
       "<table border=\"1\" class=\"dataframe\">\n",
       "  <thead>\n",
       "    <tr style=\"text-align: right;\">\n",
       "      <th></th>\n",
       "      <th>x1</th>\n",
       "      <th>x2</th>\n",
       "      <th>x3</th>\n",
       "      <th>Y</th>\n",
       "    </tr>\n",
       "  </thead>\n",
       "  <tbody>\n",
       "    <tr>\n",
       "      <th>count</th>\n",
       "      <td>5.000000</td>\n",
       "      <td>5.000000</td>\n",
       "      <td>5.000000e+00</td>\n",
       "      <td>5.000000</td>\n",
       "    </tr>\n",
       "    <tr>\n",
       "      <th>mean</th>\n",
       "      <td>0.000000</td>\n",
       "      <td>3.000000</td>\n",
       "      <td>0.000000e+00</td>\n",
       "      <td>0.000000</td>\n",
       "    </tr>\n",
       "    <tr>\n",
       "      <th>std</th>\n",
       "      <td>9.934588</td>\n",
       "      <td>1.870829</td>\n",
       "      <td>1.766211e-15</td>\n",
       "      <td>1.581139</td>\n",
       "    </tr>\n",
       "    <tr>\n",
       "      <th>min</th>\n",
       "      <td>-12.566371</td>\n",
       "      <td>1.000000</td>\n",
       "      <td>-2.449294e-15</td>\n",
       "      <td>-2.000000</td>\n",
       "    </tr>\n",
       "    <tr>\n",
       "      <th>25%</th>\n",
       "      <td>-6.283185</td>\n",
       "      <td>2.000000</td>\n",
       "      <td>-4.898587e-16</td>\n",
       "      <td>-1.000000</td>\n",
       "    </tr>\n",
       "    <tr>\n",
       "      <th>50%</th>\n",
       "      <td>0.000000</td>\n",
       "      <td>2.000000</td>\n",
       "      <td>0.000000e+00</td>\n",
       "      <td>0.000000</td>\n",
       "    </tr>\n",
       "    <tr>\n",
       "      <th>75%</th>\n",
       "      <td>6.283185</td>\n",
       "      <td>5.000000</td>\n",
       "      <td>4.898587e-16</td>\n",
       "      <td>1.000000</td>\n",
       "    </tr>\n",
       "    <tr>\n",
       "      <th>max</th>\n",
       "      <td>12.566371</td>\n",
       "      <td>5.000000</td>\n",
       "      <td>2.449294e-15</td>\n",
       "      <td>2.000000</td>\n",
       "    </tr>\n",
       "  </tbody>\n",
       "</table>\n",
       "</div>"
      ],
      "text/plain": [
       "              x1        x2            x3         Y\n",
       "count   5.000000  5.000000  5.000000e+00  5.000000\n",
       "mean    0.000000  3.000000  0.000000e+00  0.000000\n",
       "std     9.934588  1.870829  1.766211e-15  1.581139\n",
       "min   -12.566371  1.000000 -2.449294e-15 -2.000000\n",
       "25%    -6.283185  2.000000 -4.898587e-16 -1.000000\n",
       "50%     0.000000  2.000000  0.000000e+00  0.000000\n",
       "75%     6.283185  5.000000  4.898587e-16  1.000000\n",
       "max    12.566371  5.000000  2.449294e-15  2.000000"
      ]
     },
     "execution_count": 940,
     "metadata": {},
     "output_type": "execute_result"
    }
   ],
   "source": [
    "print(test.head(5))\n",
    "\n",
    "rows_test, cols_test = test.shape\n",
    "print(f\"\\nTest shape:\\n\\tRows: {rows_test}\\n\\tColumns: {cols_test}\")\n",
    "\n",
    "test.describe()"
   ]
  },
  {
   "cell_type": "markdown",
   "metadata": {},
   "source": [
    "We have 50 observations with 3 features in our training data and our test data targets to a vector of size 50. Our Kernel matrix should be N x N (50 x 50) and be 1.) semi-positive and 2.) definite. <br><br>\n",
    "\n",
    "X1 ~ Uniform(-12.56, 12.56) <br>\n",
    "X2 ~ about Normal(mean = 0.67, std = 2.5) <br>\n",
    "X3 ~ about Normal(mean = 0.40, std = 2.2) <br>\n",
    "Y  ~ Uniform(-2.0, 2.0) \n",
    "\n",
    "We have non-linear fitting data."
   ]
  },
  {
   "cell_type": "code",
   "execution_count": 941,
   "metadata": {},
   "outputs": [
    {
     "data": {
      "image/png": "[encoded data removed]",
      "text/plain": [
       "<Figure size 1200x800 with 16 Axes>"
      ]
     },
     "metadata": {},
     "output_type": "display_data"
    }
   ],
   "source": [
    "from pandas.plotting import scatter_matrix\n",
    "import matplotlib.pyplot as plt\n",
    "scatter_matrix(train[train.columns.tolist()], figsize=(12,8))\n",
    "plt.show()"
   ]
  },
  {
   "cell_type": "code",
   "execution_count": 942,
   "metadata": {},
   "outputs": [],
   "source": [
    "def show_training_hist():\n",
    "    train.hist(bins=50, figsize=(20,15))\n",
    "    plt.show()\n",
    "\n",
    "# show_training_hist()"
   ]
  },
  {
   "cell_type": "markdown",
   "metadata": {},
   "source": [
    "It is suggested that x1 is directly correlated to the target Y"
   ]
  },
  {
   "cell_type": "code",
   "execution_count": 943,
   "metadata": {},
   "outputs": [
    {
     "data": {
      "text/html": [
       "<style type=\"text/css\">\n",
       "#T_95a69_row0_col0, #T_95a69_row0_col3, #T_95a69_row1_col1, #T_95a69_row2_col2, #T_95a69_row3_col0, #T_95a69_row3_col3 {\n",
       "  background-color: #b40426;\n",
       "  color: #f1f1f1;\n",
       "}\n",
       "#T_95a69_row0_col1, #T_95a69_row3_col1 {\n",
       "  background-color: #688aef;\n",
       "  color: #f1f1f1;\n",
       "}\n",
       "#T_95a69_row0_col2, #T_95a69_row2_col0, #T_95a69_row2_col1, #T_95a69_row2_col3, #T_95a69_row3_col2 {\n",
       "  background-color: #3b4cc0;\n",
       "  color: #f1f1f1;\n",
       "}\n",
       "#T_95a69_row1_col0, #T_95a69_row1_col3 {\n",
       "  background-color: #8fb1fe;\n",
       "  color: #000000;\n",
       "}\n",
       "#T_95a69_row1_col2 {\n",
       "  background-color: #6384eb;\n",
       "  color: #f1f1f1;\n",
       "}\n",
       "</style>\n",
       "<table id=\"T_95a69\">\n",
       "  <thead>\n",
       "    <tr>\n",
       "      <th class=\"blank level0\" >&nbsp;</th>\n",
       "      <th id=\"T_95a69_level0_col0\" class=\"col_heading level0 col0\" >x1</th>\n",
       "      <th id=\"T_95a69_level0_col1\" class=\"col_heading level0 col1\" >x2</th>\n",
       "      <th id=\"T_95a69_level0_col2\" class=\"col_heading level0 col2\" >x3</th>\n",
       "      <th id=\"T_95a69_level0_col3\" class=\"col_heading level0 col3\" >Y</th>\n",
       "    </tr>\n",
       "  </thead>\n",
       "  <tbody>\n",
       "    <tr>\n",
       "      <th id=\"T_95a69_level0_row0\" class=\"row_heading level0 row0\" >x1</th>\n",
       "      <td id=\"T_95a69_row0_col0\" class=\"data row0 col0\" >1.000000</td>\n",
       "      <td id=\"T_95a69_row0_col1\" class=\"data row0 col1\" >0.045623</td>\n",
       "      <td id=\"T_95a69_row0_col2\" class=\"data row0 col2\" >-0.285750</td>\n",
       "      <td id=\"T_95a69_row0_col3\" class=\"data row0 col3\" >1.000000</td>\n",
       "    </tr>\n",
       "    <tr>\n",
       "      <th id=\"T_95a69_level0_row1\" class=\"row_heading level0 row1\" >x2</th>\n",
       "      <td id=\"T_95a69_row1_col0\" class=\"data row1 col0\" >0.045623</td>\n",
       "      <td id=\"T_95a69_row1_col1\" class=\"data row1 col1\" >1.000000</td>\n",
       "      <td id=\"T_95a69_row1_col2\" class=\"data row1 col2\" >-0.119596</td>\n",
       "      <td id=\"T_95a69_row1_col3\" class=\"data row1 col3\" >0.045623</td>\n",
       "    </tr>\n",
       "    <tr>\n",
       "      <th id=\"T_95a69_level0_row2\" class=\"row_heading level0 row2\" >x3</th>\n",
       "      <td id=\"T_95a69_row2_col0\" class=\"data row2 col0\" >-0.285750</td>\n",
       "      <td id=\"T_95a69_row2_col1\" class=\"data row2 col1\" >-0.119596</td>\n",
       "      <td id=\"T_95a69_row2_col2\" class=\"data row2 col2\" >1.000000</td>\n",
       "      <td id=\"T_95a69_row2_col3\" class=\"data row2 col3\" >-0.285750</td>\n",
       "    </tr>\n",
       "    <tr>\n",
       "      <th id=\"T_95a69_level0_row3\" class=\"row_heading level0 row3\" >Y</th>\n",
       "      <td id=\"T_95a69_row3_col0\" class=\"data row3 col0\" >1.000000</td>\n",
       "      <td id=\"T_95a69_row3_col1\" class=\"data row3 col1\" >0.045623</td>\n",
       "      <td id=\"T_95a69_row3_col2\" class=\"data row3 col2\" >-0.285750</td>\n",
       "      <td id=\"T_95a69_row3_col3\" class=\"data row3 col3\" >1.000000</td>\n",
       "    </tr>\n",
       "  </tbody>\n",
       "</table>\n"
      ],
      "text/plain": [
       "<pandas.io.formats.style.Styler at 0x20078c45bd0>"
      ]
     },
     "execution_count": 943,
     "metadata": {},
     "output_type": "execute_result"
    }
   ],
   "source": [
    "corr_matrix = train[train.columns.tolist()].corr()\n",
    "corr_matrix.style.background_gradient(cmap='coolwarm')"
   ]
  },
  {
   "cell_type": "code",
   "execution_count": 944,
   "metadata": {},
   "outputs": [
    {
     "data": {
      "text/plain": [
       "Y     1.000000\n",
       "x1    1.000000\n",
       "x2    0.045623\n",
       "x3   -0.285750\n",
       "Name: Y, dtype: float64"
      ]
     },
     "execution_count": 944,
     "metadata": {},
     "output_type": "execute_result"
    }
   ],
   "source": [
    "corr_matrix['Y'].sort_values(ascending=False)"
   ]
  },
  {
   "cell_type": "markdown",
   "metadata": {},
   "source": [
    "### Data normalization"
   ]
  },
  {
   "cell_type": "code",
   "execution_count": 945,
   "metadata": {},
   "outputs": [],
   "source": [
    "x1_min = train['x1'].min()\n",
    "x1_max = train['x1'].max()\n",
    "x1_norm = (train['x1'] - x1_min ) / (x1_max -x1_min)\n",
    "train['x1'] = x1_norm"
   ]
  },
  {
   "cell_type": "code",
   "execution_count": 946,
   "metadata": {},
   "outputs": [],
   "source": [
    "x2_min = train['x2'].min()\n",
    "x2_max = train['x2'].max()\n",
    "x2_norm = (train['x2'] - x2_min ) / (x2_max -x2_min)\n",
    "train['x2'] = x2_norm"
   ]
  },
  {
   "cell_type": "code",
   "execution_count": 947,
   "metadata": {},
   "outputs": [],
   "source": [
    "x3_min = train['x3'].min()\n",
    "x3_max = train['x3'].max()\n",
    "x3_norm = (train['x3'] - x3_min ) / (x3_max -x3_min)\n",
    "train['x3'] = x3_norm"
   ]
  },
  {
   "cell_type": "code",
   "execution_count": 948,
   "metadata": {},
   "outputs": [],
   "source": [
    "y_min = train['Y'].min()\n",
    "y_max = train['Y'].max()\n",
    "y_norm = (train['Y'] - y_min ) / (y_max -y_min)\n",
    "train['Y'] = y_norm"
   ]
  },
  {
   "cell_type": "code",
   "execution_count": 949,
   "metadata": {},
   "outputs": [
    {
     "data": {
      "text/html": [
       "<div>\n",
       "<style scoped>\n",
       "    .dataframe tbody tr th:only-of-type {\n",
       "        vertical-align: middle;\n",
       "    }\n",
       "\n",
       "    .dataframe tbody tr th {\n",
       "        vertical-align: top;\n",
       "    }\n",
       "\n",
       "    .dataframe thead th {\n",
       "        text-align: right;\n",
       "    }\n",
       "</style>\n",
       "<table border=\"1\" class=\"dataframe\">\n",
       "  <thead>\n",
       "    <tr style=\"text-align: right;\">\n",
       "      <th></th>\n",
       "      <th>x1</th>\n",
       "      <th>x2</th>\n",
       "      <th>x3</th>\n",
       "      <th>Y</th>\n",
       "    </tr>\n",
       "  </thead>\n",
       "  <tbody>\n",
       "    <tr>\n",
       "      <th>count</th>\n",
       "      <td>50.000000</td>\n",
       "      <td>50.000000</td>\n",
       "      <td>50.000000</td>\n",
       "      <td>50.000000</td>\n",
       "    </tr>\n",
       "    <tr>\n",
       "      <th>mean</th>\n",
       "      <td>0.500000</td>\n",
       "      <td>0.474520</td>\n",
       "      <td>0.577154</td>\n",
       "      <td>0.500000</td>\n",
       "    </tr>\n",
       "    <tr>\n",
       "      <th>std</th>\n",
       "      <td>0.297498</td>\n",
       "      <td>0.167496</td>\n",
       "      <td>0.190282</td>\n",
       "      <td>0.297498</td>\n",
       "    </tr>\n",
       "    <tr>\n",
       "      <th>min</th>\n",
       "      <td>0.000000</td>\n",
       "      <td>0.000000</td>\n",
       "      <td>0.000000</td>\n",
       "      <td>0.000000</td>\n",
       "    </tr>\n",
       "    <tr>\n",
       "      <th>25%</th>\n",
       "      <td>0.250000</td>\n",
       "      <td>0.368706</td>\n",
       "      <td>0.476335</td>\n",
       "      <td>0.250000</td>\n",
       "    </tr>\n",
       "    <tr>\n",
       "      <th>50%</th>\n",
       "      <td>0.500000</td>\n",
       "      <td>0.463139</td>\n",
       "      <td>0.600543</td>\n",
       "      <td>0.500000</td>\n",
       "    </tr>\n",
       "    <tr>\n",
       "      <th>75%</th>\n",
       "      <td>0.750000</td>\n",
       "      <td>0.545576</td>\n",
       "      <td>0.713780</td>\n",
       "      <td>0.750000</td>\n",
       "    </tr>\n",
       "    <tr>\n",
       "      <th>max</th>\n",
       "      <td>1.000000</td>\n",
       "      <td>1.000000</td>\n",
       "      <td>1.000000</td>\n",
       "      <td>1.000000</td>\n",
       "    </tr>\n",
       "  </tbody>\n",
       "</table>\n",
       "</div>"
      ],
      "text/plain": [
       "              x1         x2         x3          Y\n",
       "count  50.000000  50.000000  50.000000  50.000000\n",
       "mean    0.500000   0.474520   0.577154   0.500000\n",
       "std     0.297498   0.167496   0.190282   0.297498\n",
       "min     0.000000   0.000000   0.000000   0.000000\n",
       "25%     0.250000   0.368706   0.476335   0.250000\n",
       "50%     0.500000   0.463139   0.600543   0.500000\n",
       "75%     0.750000   0.545576   0.713780   0.750000\n",
       "max     1.000000   1.000000   1.000000   1.000000"
      ]
     },
     "execution_count": 949,
     "metadata": {},
     "output_type": "execute_result"
    }
   ],
   "source": [
    "train.describe()\n",
    "\n",
    "# show_training_hist()"
   ]
  },
  {
   "cell_type": "markdown",
   "metadata": {},
   "source": [
    "Underlying data did not change, but now are related in the same range and are more ready for best learning conditions."
   ]
  },
  {
   "cell_type": "markdown",
   "metadata": {},
   "source": [
    "### b. Train the NumPy implemented kernel ridge regression model with the polynomial kernel function,<br>        k = ⟨x,z⟩^d <br> Find the best model with the lowest MSE value as the degree, d, increases from 2 to 11."
   ]
  },
  {
   "cell_type": "code",
   "execution_count": 950,
   "metadata": {},
   "outputs": [],
   "source": [
    "X = pd.DataFrame()\n",
    "X['x1'], X['x2'], X['x3'] = train['x1'], train['x2'], train['x3']"
   ]
  },
  {
   "cell_type": "code",
   "execution_count": 951,
   "metadata": {},
   "outputs": [],
   "source": [
    "def phi_p(X1,X2,k):\n",
    "    return (np.dot(X1,X2))**k\n",
    "\n",
    "def kernel_matrix(X, l, k, kernel_func):\n",
    "    N = len(X)\n",
    "    K = np.zeros((N,N)) #make empty K\n",
    "    for i in range(N):\n",
    "        for j in range(N):\n",
    "            inner = kernel_func(X[i].T,X[j].T,k)\n",
    "            # print(f\"i: {i}\\tj: {j}\\tres: {inner}\")\n",
    "            K[i][j] = inner\n",
    "            if j == i:\n",
    "                K[i][j] += l \n",
    "    return K \n"
   ]
  },
  {
   "cell_type": "code",
   "execution_count": 952,
   "metadata": {},
   "outputs": [],
   "source": [
    "x1 = X['x1'].tolist()\n",
    "x2 = X['x2'].tolist()\n",
    "x3 = X['x3'].tolist()\n",
    "\n",
    "a = np.array([x1, x2, x3])\n",
    "l = 0 # for linear regression\n",
    "gram = 1 #k, degree =1"
   ]
  },
  {
   "cell_type": "code",
   "execution_count": 953,
   "metadata": {},
   "outputs": [
    {
     "name": "stdout",
     "output_type": "stream",
     "text": [
      "(50, 50)\n",
      "(50,)\n",
      "x1*K*x1: \t612.8088212843707\n",
      "x2*K*x2: \t485.4170029919329\n",
      "x3*K*x3: \t708.0259206831522\n"
     ]
    }
   ],
   "source": [
    "kt = kernel_matrix(a.T,l,gram, phi_p) #note: must transpose a to achieve kernel matrix...\n",
    "\n",
    "print(kt.shape) #our kernel matrix is 50x50 \n",
    "print(train['x1'].shape)\n",
    "\n",
    "#checking validity\n",
    "print(f\"x1*K*x1: \\t{np.matmul(np.matmul(train['x1'].tolist(), kt), train['x1'])}\")\n",
    "print(f\"x2*K*x2: \\t{np.matmul(np.matmul(train['x2'].tolist(), kt), train['x2'])}\")\n",
    "print(f\"x3*K*x3: \\t{np.matmul(np.matmul(train['x3'].tolist(), kt), train['x3'])}\")"
   ]
  },
  {
   "cell_type": "markdown",
   "metadata": {},
   "source": [
    "Thus, the kernel K is a semi-positive definite matrix as v^T*G*v >= 0."
   ]
  },
  {
   "cell_type": "code",
   "execution_count": 954,
   "metadata": {},
   "outputs": [],
   "source": [
    "def compute_w(y, K):\n",
    "    invK = np.linalg.inv(K)\n",
    "    # print(y.shape, invK.shape)\n",
    "    a = np.matmul(y.T, invK)\n",
    "    return a"
   ]
  },
  {
   "cell_type": "code",
   "execution_count": 955,
   "metadata": {},
   "outputs": [
    {
     "data": {
      "text/plain": [
       "array([-1.25      , -0.25      , -0.875     , -0.84375   , -0.125     ,\n",
       "        1.75      ,  3.25      ,  0.625     ,  0.        , -5.        ,\n",
       "       -2.4296875 ,  4.1875    ,  1.53125   ,  1.359375  ,  0.5       ,\n",
       "       -1.75      , -0.25      ,  3.1875    , -3.90625   ,  2.5625    ,\n",
       "        5.25      , -2.5625    ,  1.8125    , -0.5625    ,  2.375     ,\n",
       "       -0.3125    , -0.875     , -3.5       ,  0.25      , -1.25      ,\n",
       "       -2.06640625, -1.25      ,  3.78125   , -1.75      ,  3.375     ,\n",
       "       -4.625     , -1.5625    ,  1.        ,  3.1875    ,  0.5       ,\n",
       "       -3.75      , -0.75      , -0.9375    ,  0.5703125 , -2.875     ,\n",
       "        0.5625    , -1.        , -5.1875    , -0.375     ,  0.        ])"
      ]
     },
     "execution_count": 955,
     "metadata": {},
     "output_type": "execute_result"
    }
   ],
   "source": [
    "y = np.array(train['Y'])\n",
    "N = len(X)\n",
    "w = compute_w(y, kt)\n",
    "# print(a.shape)\n",
    "w"
   ]
  },
  {
   "cell_type": "code",
   "execution_count": 956,
   "metadata": {},
   "outputs": [
    {
     "name": "stdout",
     "output_type": "stream",
     "text": [
      "[-6.436032139446553, -7.804354274756944, -6.952057298664196, -6.456110195059641, -6.4563488997429195, -5.855591125296535, -5.518888286658994, -6.293510746214994, -5.810880214409265, -6.598453699057292, -7.5676256923093295, -8.048760095057904, -8.407517747875643, -8.699924660726996, -9.274744820860484, -9.341767130765646, -9.00756871292248, -9.164987937343493, -8.858290962001185, -8.956275615793496, -9.068582512590758, -9.739029547881962, -9.879359580478255, -10.47986999777696, -11.069951441193169, -11.798083979396337, -11.824977187069964, -12.080349294278212, -12.330441715905804, -12.078776550554561, -11.316455243987741, -11.538054069055589, -11.151587616305903, -11.008153481053128, -11.990886010541482, -13.322920467971983, -14.26973208595287, -15.169113112481856, -15.77861906353727, -15.203246317663686, -15.550454695006486, -14.753134734389945, -13.849184549896403, -12.041142802507089, -12.883667852710522, -13.051206325827774, -13.269115849808214, -14.997141983139864, -16.885212495582635, -19.658069350650475]\n"
     ]
    }
   ],
   "source": [
    "def train_prediction(w, x, X, k, kernel_func):\n",
    "    y_pred = []\n",
    "    for i in range(len(x)):\n",
    "        test = x[i]\n",
    "        s = 0.0\n",
    "        for j in range(N):\n",
    "            train = X[j]\n",
    "            kT = kernel_func(test, train, k)\n",
    "            s += w[j]*kT\n",
    "        y_pred.append(s)\n",
    "    return y_pred\n",
    "\n",
    "y_pred = train_prediction(w, a.T, a.T, gram, phi_p)\n",
    "print(y_pred)"
   ]
  },
  {
   "cell_type": "code",
   "execution_count": 957,
   "metadata": {},
   "outputs": [
    {
     "data": {
      "text/plain": [
       "140.08658085500429"
      ]
     },
     "execution_count": 957,
     "metadata": {},
     "output_type": "execute_result"
    }
   ],
   "source": [
    "def MSE(y, y_hat, init, leny):\n",
    "    if len(y) == 0:\n",
    "        return init/leny\n",
    "    else: \n",
    "        return MSE(y[1:], y_hat[1:], init+(y[0]-y_hat[0])**2, leny)\n",
    "    \n",
    "MSE(y, y_pred, 0, N)"
   ]
  },
  {
   "cell_type": "code",
   "execution_count": 958,
   "metadata": {},
   "outputs": [
    {
     "name": "stdout",
     "output_type": "stream",
     "text": [
      "k: 2\tMSE: 2447.228210399394\n",
      "k: 3\tMSE: 59004.111172672194\n",
      "k: 4\tMSE: 6128043981.3570385\n",
      "k: 5\tMSE: 543861585004.6898\n",
      "k: 6\tMSE: 418879613493.8173\n",
      "k: 7\tMSE: 369854136065.06024\n",
      "k: 8\tMSE: 740185725501.0485\n",
      "k: 9\tMSE: 130258107360.19962\n",
      "k: 10\tMSE: 409631691.17046946\n",
      "k: 11\tMSE: 271964297.4684502\n",
      "2447.228210399394\n"
     ]
    }
   ],
   "source": [
    "k_list = range(2, 12)\n",
    "d = k_list[0]\n",
    "a = np.array([x1, x2, x3])\n",
    "y = np.array(train['Y'])\n",
    "l = 0 # for linear regression\n",
    "MSEs = []\n",
    "N = len(y)\n",
    "for i in k_list:\n",
    "    k = i\n",
    "    kt = kernel_matrix(a.T, l, k, phi_p)\n",
    "    w = compute_w(y, kt)\n",
    "    y_pred = train_prediction(w, a.T, a.T, k, phi_p)\n",
    "    mse= MSE(y, y_pred, 0, N)\n",
    "    MSEs.append(mse)\n",
    "    print(f\"k: {i}\\tMSE: {mse}\")\n",
    "\n",
    "print(min(MSEs))"
   ]
  },
  {
   "cell_type": "markdown",
   "metadata": {},
   "source": [
    "The best model according to the presented MSEs would be upon k = 2 (save k = 1 which uses Gram), however it is important to notice that our MSE reaches a peak at k = 7 after which it will drop by orders of magnitude. I am interested as to whether this trend will continue to decrease past k = 11 so we can use this knowledge to drive our MSE down. It is clear that the best model from the kernel ridge regression model using polynomial kernel function is at degree = 2.  "
   ]
  },
  {
   "cell_type": "markdown",
   "metadata": {},
   "source": [
    "### b. Write a code that constructs the kernel matrix with RBF kernel function, k(x,z) = exp(−γ|x−z|2). <br> The RBF kernel function must be computed using NumPy. With 10 different γ parameter <br> values, train the rbf-kernel ridge regression models and find the best model."
   ]
  },
  {
   "cell_type": "code",
   "execution_count": 959,
   "metadata": {},
   "outputs": [],
   "source": [
    "e=2.71828\n",
    "def rbf(x, z, l): # x and z are the same thing...\n",
    "    return e**(-l*(np.linalg.norm(x - z)**2))\n"
   ]
  },
  {
   "cell_type": "code",
   "execution_count": 960,
   "metadata": {},
   "outputs": [
    {
     "name": "stdout",
     "output_type": "stream",
     "text": [
      "(50, 50)\n"
     ]
    },
    {
     "data": {
      "text/plain": [
       "array([[3.        , 0.95648461, 0.94670535, ..., 0.28982569, 0.36853164,\n",
       "        0.32898582],\n",
       "       [0.95648461, 3.        , 0.97096725, ..., 0.23059588, 0.34315739,\n",
       "        0.34667863],\n",
       "       [0.94670535, 0.97096725, 3.        , ..., 0.23472974, 0.34561987,\n",
       "        0.31923229],\n",
       "       ...,\n",
       "       [0.28982569, 0.23059588, 0.23472974, ..., 3.        , 0.86532107,\n",
       "        0.63250215],\n",
       "       [0.36853164, 0.34315739, 0.34561987, ..., 0.86532107, 3.        ,\n",
       "        0.88460405],\n",
       "       [0.32898582, 0.34667863, 0.31923229, ..., 0.63250215, 0.88460405,\n",
       "        3.        ]])"
      ]
     },
     "execution_count": 960,
     "metadata": {},
     "output_type": "execute_result"
    }
   ],
   "source": [
    "a = np.array([x1, x2, x3])\n",
    "y = np.array(train['Y'])\n",
    "l=2\n",
    "kt = kernel_matrix(a.T,l,gram, rbf) #note: transpose a to achieve kernel matrix...\n",
    "print(kt.shape) # Kernel matrix is N x N\n",
    "kt"
   ]
  },
  {
   "cell_type": "markdown",
   "metadata": {},
   "source": [
    "Confirm K as definite semi-positive"
   ]
  },
  {
   "cell_type": "code",
   "execution_count": 961,
   "metadata": {},
   "outputs": [
    {
     "name": "stdout",
     "output_type": "stream",
     "text": [
      "x1*K*x1: \t510.862975252928\n",
      "x2*K*x2: \t454.0113178083483\n",
      "x3*K*x3: \t694.0665066317179\n"
     ]
    }
   ],
   "source": [
    "#checking validity\n",
    "print(f\"x1*K*x1: \\t{np.matmul(np.matmul(train['x1'].tolist(), kt), train['x1'])}\")\n",
    "print(f\"x2*K*x2: \\t{np.matmul(np.matmul(train['x2'].tolist(), kt), train['x2'])}\")\n",
    "print(f\"x3*K*x3: \\t{np.matmul(np.matmul(train['x3'].tolist(), kt), train['x3'])}\")"
   ]
  },
  {
   "cell_type": "code",
   "execution_count": 962,
   "metadata": {},
   "outputs": [
    {
     "name": "stdout",
     "output_type": "stream",
     "text": [
      "k: 0.001\tMSE: 3.1324018002129937e-07\n",
      "k: 0.0055\tMSE: 4.573136120579175e-06\n",
      "k: 0.01\tMSE: 1.1134315163463175e-05\n",
      "k: 0.055\tMSE: 0.0001669371235111031\n",
      "k: 0.1\tMSE: 0.00046443221109353336\n",
      "k: 0.55\tMSE: 0.007624132045423041\n",
      "k: 1\tMSE: 0.01750652382006026\n",
      "k: 5.5\tMSE: 0.09669950633834659\n",
      "k: 10\tMSE: 0.14176103191259273\n",
      "k: 55.5\tMSE: 0.26612132305239994\n"
     ]
    },
    {
     "data": {
      "text/plain": [
       "3.1324018002129937e-07"
      ]
     },
     "execution_count": 962,
     "metadata": {},
     "output_type": "execute_result"
    }
   ],
   "source": [
    "a = np.array([x1, x2, x3])\n",
    "y = np.array(train['Y'])\n",
    "y = y.T\n",
    "l_list= [0.001, 0.0055, 0.01, 0.055, 0.1, 0.55, 1, 5.5, 10, 55.5]\n",
    "MSEs = []\n",
    "# a = a.T\n",
    "\n",
    "for l in l_list:\n",
    "    kt = kernel_matrix(a.T,l,k, rbf)\n",
    "    w = compute_w(y, kt)\n",
    "    y_pred = train_prediction(w, a.T, a.T, k, rbf)\n",
    "    mse= MSE(y, y_pred, 0, N)\n",
    "    MSEs.append(mse)\n",
    "    print(f\"k: {l}\\tMSE: {mse}\")\n",
    "\n",
    "min(MSEs)"
   ]
  },
  {
   "cell_type": "markdown",
   "metadata": {},
   "source": [
    "The best model obtained from using the Kernel Matrix obtained through RBF was in the last iteration with the highest lambda @ l = 0.001. It is likely true that even smaller lambda results may product best outcomes. "
   ]
  },
  {
   "cell_type": "markdown",
   "metadata": {},
   "source": [
    "### d. Construct a kernel function, the product poly-kernel and rbf-kernel functions, and <br>train the kernel ridge regression model. Find the best model with the combinations of d and <br>γ values used in b and c. There must be a total of 100 combinations"
   ]
  },
  {
   "cell_type": "code",
   "execution_count": 963,
   "metadata": {},
   "outputs": [
    {
     "name": "stdout",
     "output_type": "stream",
     "text": [
      "Minimum MSE (best model): 1.934677764515809e-07 at iteration = 100\n"
     ]
    }
   ],
   "source": [
    "d_list = range(2,12) # vals from b)\n",
    "l_list = [0.001, 0.0055, 0.01, 0.055, 0.1, 0.55, 1, 5.5, 10, 55.5] # vals from c)\n",
    "d, l = d_list[0], l_list[0]\n",
    "\n",
    "def res(x, z, k, g):\n",
    "    def rbf(x, z, l): # x and z are the same thing...\n",
    "        return e**(-l*(np.linalg.norm(x - z)**2))\n",
    "    def phi_p(x, z, k):\n",
    "        return (np.dot(x,z))**k\n",
    "    return rbf(x, z, g)*phi_p(x, z, l)\n",
    "\n",
    "def kernel_matrix_pkf_rbf(X, k, g):\n",
    "    N = len(X)\n",
    "    K = np.zeros((N,N)) #make empty K\n",
    "    for i in range(N):\n",
    "        for j in range(N):\n",
    "            inner = res(X[i].T, X[j].T, k, g)\n",
    "            # print(f\"i: {i}\\tj: {j}\\tres: {inner}\")\n",
    "            K[i][j] = inner\n",
    "            if j == i:\n",
    "                K[i][j] += l \n",
    "    return K \n",
    "\n",
    "def train_prediction(w, x, X, k, g):\n",
    "    N = len(X)\n",
    "    \n",
    "    y_pred = []\n",
    "    for i in range(len(x)):\n",
    "        test = x[i]\n",
    "        s = 0.0\n",
    "        for j in range(N):\n",
    "            train = X[j]\n",
    "            kT = res(test, train, k, g)\n",
    "            s += w[j]*kT\n",
    "        y_pred.append(s)\n",
    "    return y_pred\n",
    "\n",
    "\n",
    "MSEs = []\n",
    "for poly in d_list:\n",
    "    for rbf in l_list: \n",
    "        kt = kernel_matrix_pkf_rbf(a.T, poly, rbf)\n",
    "        w = compute_w(y.T, kt)\n",
    "        y_pred = train_prediction(w, a.T, a.T, poly, rbf)\n",
    "        mse= MSE(y, y_pred, 0, N)\n",
    "        MSEs.append(mse)\n",
    "        with open(\"results.txt\", \"a\") as fl:\n",
    "            print(f\"degree: {poly}\\tgamma: {rbf}\\tmse: {mse}\", file=fl)\n",
    "\n",
    "minm = 1\n",
    "it = 0\n",
    "for i in MSEs:\n",
    "    if i < minm: \n",
    "        minm = i\n",
    "    it=it+1\n",
    "\n",
    "print(\"Minimum MSE (best model): \" + str(minm) + \" at iteration = \" + str(it))"
   ]
  },
  {
   "cell_type": "markdown",
   "metadata": {},
   "source": [
    "We can see that the lowest obtained MSE was in using gamma = 55.5 and at all degrees in the range(2, 11). We can check 'results.txt' to confirm that our minimum MSE = 1.9347e-07 is reported each time tests with gamma=55.5 are used, regardless of degree. Across using the polynomial, radian-basis (gaussian), and the kernel function on the product of the two, it has been identified that the best model was found using the product kernel with hyperparameters gamma = 55.5 (high-end) and using any degree, d, in range(2,11)."
   ]
  },
  {
   "cell_type": "markdown",
   "metadata": {},
   "source": [
    "Thus, for simplicity we will use gamma = 55.5 and k, degree = 11 (as results are only dependent on gamma in the product of the gaussian and the polynomial kernel function). This means these results are stored in our prior computations for finding kt, w(a), y_pred, and the MSE. This means that our y_pred values are currently stored in the environment. Let's observe our predicted values and compare against the actual target values. We must have very accurate results as our error is on the order of 10^(-7)."
   ]
  },
  {
   "cell_type": "code",
   "execution_count": 964,
   "metadata": {},
   "outputs": [
    {
     "name": "stdout",
     "output_type": "stream",
     "text": [
      "(actual, predicted)\n"
     ]
    },
    {
     "data": {
      "text/plain": [
       "[(0.0, 7.070341085321346e-06),\n",
       " (0.02040816326530609, 0.02039135705724083),\n",
       " (0.040816326530612235, 0.04079850334333352),\n",
       " (0.06122448979591838, 0.061211341387641664),\n",
       " (0.08163265306122452, 0.08156577463934017),\n",
       " (0.10204081632653061, 0.10205633336364854),\n",
       " (0.12244897959183676, 0.12233496849581847),\n",
       " (0.14285714285714285, 0.14283251133861413),\n",
       " (0.16326530612244894, 0.1631812414629868),\n",
       " (0.18367346938775508, 0.1835838529420948),\n",
       " (0.20408163265306123, 0.20427792389130486),\n",
       " (0.22448979591836732, 0.22412722008779676),\n",
       " (0.24489795918367352, 0.24498194551586092),\n",
       " (0.26530612244897955, 0.26525527009574634),\n",
       " (0.2857142857142857, 0.28562323359246783),\n",
       " (0.3061224489795918, 0.30595566030507787),\n",
       " (0.32653061224489793, 0.32678794148663515),\n",
       " (0.3469387755102041, 0.34670241105248784),\n",
       " (0.36734693877551017, 0.367099724972264),\n",
       " (0.3877551020408163, 0.38778422853182076),\n",
       " (0.4081632653061224, 0.40779977768198045),\n",
       " (0.42857142857142855, 0.4289580617891318),\n",
       " (0.44897959183673464, 0.4486871517529019),\n",
       " (0.4693877551020408, 0.4692833764910142),\n",
       " (0.4897959183673469, 0.4896364283925107),\n",
       " (0.5102040816326531, 0.5099041528054477),\n",
       " (0.5306122448979591, 0.5305963975132597),\n",
       " (0.5510204081632653, 0.5509813086481505),\n",
       " (0.5714285714285714, 0.5709805297582574),\n",
       " (0.5918367346938775, 0.5918507142959747),\n",
       " (0.6122448979591836, 0.6118251746906723),\n",
       " (0.6326530612244897, 0.632543070817653),\n",
       " (0.6530612244897959, 0.6526739069030848),\n",
       " (0.673469387755102, 0.6730592654692736),\n",
       " (0.6938775510204082, 0.6936025748497684),\n",
       " (0.7142857142857142, 0.7138754716707799),\n",
       " (0.7346938775510203, 0.7341416561455413),\n",
       " (0.7551020408163265, 0.7546117044079851),\n",
       " (0.7755102040816326, 0.7750632903118967),\n",
       " (0.7959183673469387, 0.7953041316838849),\n",
       " (0.8163265306122448, 0.8156776717841192),\n",
       " (0.836734693877551, 0.8362942518784259),\n",
       " (0.8571428571428571, 0.8564088863458917),\n",
       " (0.8775510204081632, 0.8766951885654538),\n",
       " (0.8979591836734693, 0.8971347605729744),\n",
       " (0.9183673469387754, 0.9176068229042451),\n",
       " (0.9387755102040816, 0.9379281994418156),\n",
       " (0.9591836734693877, 0.958233665232709),\n",
       " (0.9795918367346939, 0.9786368543742481),\n",
       " (1.0, 0.9990031270504774)]"
      ]
     },
     "execution_count": 964,
     "metadata": {},
     "output_type": "execute_result"
    }
   ],
   "source": [
    "tupes= []\n",
    "for i, x in zip(y, y_pred):\n",
    "    tupes.append((i, x))\n",
    "print(\"(actual, predicted)\")\n",
    "tupes"
   ]
  },
  {
   "cell_type": "markdown",
   "metadata": {},
   "source": [
    "Across the board, our estimated y-values are very close (negligably distant) to each other, meaning our 'mixed' model with degree = 11 and gamma = 55.5 performs very accurately and with very low mean squared error. We have successfully given our non-linear data linearity through the kernel method such that we could solve a linear model to estimate predictors."
   ]
  }
 ],
 "metadata": {
  "kernelspec": {
   "display_name": "base",
   "language": "python",
   "name": "python3"
  },
  "language_info": {
   "codemirror_mode": {
    "name": "ipython",
    "version": 3
   },
   "file_extension": ".py",
   "mimetype": "text/x-python",
   "name": "python",
   "nbconvert_exporter": "python",
   "pygments_lexer": "ipython3",
   "version": "3.11.5"
  }
 },
 "nbformat": 4,
 "nbformat_minor": 2
}
